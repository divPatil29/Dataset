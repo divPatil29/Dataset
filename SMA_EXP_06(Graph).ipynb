{
  "nbformat": 4,
  "nbformat_minor": 0,
  "metadata": {
    "colab": {
      "provenance": []
    },
    "kernelspec": {
      "name": "python3",
      "display_name": "Python 3"
    },
    "language_info": {
      "name": "python"
    }
  },
  "cells": [
    {
      "cell_type": "code",
      "source": [
        "!pip install network"
      ],
      "metadata": {
        "colab": {
          "base_uri": "https://localhost:8080/"
        },
        "id": "o__2WehwYpLj",
        "outputId": "056a82a2-7ce2-460a-f8ea-088326b059b5"
      },
      "execution_count": null,
      "outputs": [
        {
          "output_type": "stream",
          "name": "stdout",
          "text": [
            "Collecting network\n",
            "  Downloading network-0.1.tar.gz (2.8 kB)\n",
            "  Preparing metadata (setup.py) ... \u001b[?25l\u001b[?25hdone\n",
            "Building wheels for collected packages: network\n",
            "  Building wheel for network (setup.py) ... \u001b[?25l\u001b[?25hdone\n",
            "  Created wheel for network: filename=network-0.1-py3-none-any.whl size=3139 sha256=e91e14f57e12c3907213a07d967d99d684847300ac8fbfbcc5135f7c7a8e5245\n",
            "  Stored in directory: /root/.cache/pip/wheels/25/97/b1/563d3a70ed8f588bf9cf448f079024a9751b54d15a0ce3d46b\n",
            "Successfully built network\n",
            "Installing collected packages: network\n",
            "Successfully installed network-0.1\n"
          ]
        }
      ]
    },
    {
      "cell_type": "code",
      "source": [
        "import pandas as pd\n",
        "import network as nx"
      ],
      "metadata": {
        "id": "PRVm7yiKYKkC"
      },
      "execution_count": null,
      "outputs": []
    },
    {
      "cell_type": "code",
      "source": [
        "!pip install fin-news"
      ],
      "metadata": {
        "colab": {
          "base_uri": "https://localhost:8080/"
        },
        "id": "bpWwxdHCYLF6",
        "outputId": "fde4b04e-4eb1-48a2-ded0-f21aeb31b022"
      },
      "execution_count": null,
      "outputs": [
        {
          "output_type": "stream",
          "name": "stdout",
          "text": [
            "Collecting fin-news\n",
            "  Downloading fin_news-0.1.2-py3-none-any.whl (19 kB)\n",
            "Requirement already satisfied: requests>=2.24.0 in /usr/local/lib/python3.10/dist-packages (from fin-news) (2.31.0)\n",
            "Collecting fake-useragent==0.1.11 (from fin-news)\n",
            "  Downloading fake-useragent-0.1.11.tar.gz (13 kB)\n",
            "  Preparing metadata (setup.py) ... \u001b[?25l\u001b[?25hdone\n",
            "Requirement already satisfied: charset-normalizer<4,>=2 in /usr/local/lib/python3.10/dist-packages (from requests>=2.24.0->fin-news) (3.3.2)\n",
            "Requirement already satisfied: idna<4,>=2.5 in /usr/local/lib/python3.10/dist-packages (from requests>=2.24.0->fin-news) (3.7)\n",
            "Requirement already satisfied: urllib3<3,>=1.21.1 in /usr/local/lib/python3.10/dist-packages (from requests>=2.24.0->fin-news) (2.0.7)\n",
            "Requirement already satisfied: certifi>=2017.4.17 in /usr/local/lib/python3.10/dist-packages (from requests>=2.24.0->fin-news) (2024.2.2)\n",
            "Building wheels for collected packages: fake-useragent\n",
            "  Building wheel for fake-useragent (setup.py) ... \u001b[?25l\u001b[?25hdone\n",
            "  Created wheel for fake-useragent: filename=fake_useragent-0.1.11-py3-none-any.whl size=13482 sha256=530987952d3c840faa1f5bcd7d300967207a8bde6c6b351bc89310656df0aa00\n",
            "  Stored in directory: /root/.cache/pip/wheels/ad/4f/20/1880f6cbdf5e12b5fa9635d072735ea0842db7346939891812\n",
            "Successfully built fake-useragent\n",
            "Installing collected packages: fake-useragent, fin-news\n",
            "Successfully installed fake-useragent-0.1.11 fin-news-0.1.2\n"
          ]
        }
      ]
    },
    {
      "cell_type": "code",
      "source": [
        "import networkx\n",
        "G=networkx.Graph()\n",
        "G.add_node(1)\n",
        "G.add_node(2)\n",
        "G.add_node(3)\n",
        "G.add_node(4)\n",
        "G.add_node(5)\n",
        "G.add_node(6)\n",
        "G.add_node(7)\n",
        "G.add_node(8)"
      ],
      "metadata": {
        "id": "zemRDMjiWqJD"
      },
      "execution_count": null,
      "outputs": []
    },
    {
      "cell_type": "code",
      "source": [
        "G.add_edge(1,2)\n",
        "G.add_edge(2,3)\n",
        "G.add_edge(3,4)\n",
        "G.add_edge(4,5)\n",
        "G.add_edge(4,8)\n",
        "G.add_edge(5,8)\n",
        "G.add_edge(5,7)\n",
        "G.add_edge(5,6)\n",
        "G.add_edge(6,7)\n",
        "G.add_edge(7,8)"
      ],
      "metadata": {
        "id": "uHHVu7xqWyBa"
      },
      "execution_count": null,
      "outputs": []
    },
    {
      "cell_type": "code",
      "source": [
        "G.edges()"
      ],
      "metadata": {
        "colab": {
          "base_uri": "https://localhost:8080/"
        },
        "id": "3bvRIo3-Wzyq",
        "outputId": "a3f4be2c-46f1-44b7-b159-01314647a6d7"
      },
      "execution_count": null,
      "outputs": [
        {
          "output_type": "execute_result",
          "data": {
            "text/plain": [
              "EdgeView([(1, 2), (2, 3), (3, 4), (4, 5), (4, 8), (5, 8), (5, 7), (5, 6), (6, 7), (7, 8)])"
            ]
          },
          "metadata": {},
          "execution_count": 6
        }
      ]
    },
    {
      "cell_type": "code",
      "source": [
        "import networkx as nx\n"
      ],
      "metadata": {
        "id": "63meG5fpZACL"
      },
      "execution_count": null,
      "outputs": []
    },
    {
      "cell_type": "code",
      "source": [
        "import networkx\n",
        "G= networkx.Graph()"
      ],
      "metadata": {
        "id": "uqS63H_uqU3Q"
      },
      "execution_count": null,
      "outputs": []
    },
    {
      "cell_type": "code",
      "source": [],
      "metadata": {
        "id": "pM7-Cf4JqeZa"
      },
      "execution_count": null,
      "outputs": []
    },
    {
      "cell_type": "code",
      "source": [
        "nx.draw(G,with_labels=1)\n"
      ],
      "metadata": {
        "colab": {
          "base_uri": "https://localhost:8080/",
          "height": 516
        },
        "id": "9eydIDcWW1sS",
        "outputId": "a696084b-70e3-4ddb-853b-0ffb767c46c9"
      },
      "execution_count": null,
      "outputs": [
        {
          "output_type": "display_data",
          "data": {
            "text/plain": [
              "<Figure size 640x480 with 1 Axes>"
            ],
            "image/png": "[encoded data removed]"
          },
          "metadata": {}
        }
      ]
    },
    {
      "cell_type": "code",
      "source": [
        "nx.degree_centrality(G)"
      ],
      "metadata": {
        "colab": {
          "base_uri": "https://localhost:8080/"
        },
        "id": "Wh_YIIJeW6w6",
        "outputId": "c461f1a9-5520-4e2e-e783-b30e2f03c870"
      },
      "execution_count": null,
      "outputs": [
        {
          "output_type": "execute_result",
          "data": {
            "text/plain": [
              "{}"
            ]
          },
          "metadata": {},
          "execution_count": 10
        }
      ]
    },
    {
      "cell_type": "code",
      "source": [
        "import matplotlib.pyplot as plt\n",
        "import networkx as nx\n",
        "G=nx.Graph()\n",
        "G.add_nodes_from([1,2,3,4,5,6,7,8])\n",
        "G.add_edges_from([(1,2),(2,3),(3,4),(4,5),(4,8),(5,8),(5,7),(5,6),(6,7),(7,8)])\n",
        "\n",
        "nx.draw(G,with_labels=True,node_color=\"red\",node_size=1000,font_color=\"White\")\n",
        "plt.margins(0.2)\n",
        "plt.show()"
      ],
      "metadata": {
        "colab": {
          "base_uri": "https://localhost:8080/",
          "height": 516
        },
        "id": "2Mh04QoSW8jy",
        "outputId": "9ee6c792-2d6a-4455-dd9d-b3a6fa8fe6ba"
      },
      "execution_count": null,
      "outputs": [
        {
          "output_type": "display_data",
          "data": {
            "text/plain": [
              "<Figure size 640x480 with 1 Axes>"
            ],
            "image/png": "[encoded data removed]"
          },
          "metadata": {}
        }
      ]
    },
    {
      "cell_type": "code",
      "source": [
        "nx.degree_centrality(G)"
      ],
      "metadata": {
        "colab": {
          "base_uri": "https://localhost:8080/"
        },
        "id": "cfRw3YdyXBnx",
        "outputId": "cf7af982-8cad-4acc-ee88-204b2caaf1d8"
      },
      "execution_count": null,
      "outputs": [
        {
          "output_type": "execute_result",
          "data": {
            "text/plain": [
              "{1: 0.14285714285714285,\n",
              " 2: 0.2857142857142857,\n",
              " 3: 0.2857142857142857,\n",
              " 4: 0.42857142857142855,\n",
              " 5: 0.5714285714285714,\n",
              " 6: 0.2857142857142857,\n",
              " 7: 0.42857142857142855,\n",
              " 8: 0.42857142857142855}"
            ]
          },
          "metadata": {},
          "execution_count": 12
        }
      ]
    },
    {
      "cell_type": "code",
      "source": [
        "nx.degree(G)"
      ],
      "metadata": {
        "colab": {
          "base_uri": "https://localhost:8080/"
        },
        "id": "XI6apjlPXDUB",
        "outputId": "73c5547b-cc52-461f-b387-b73edd05295f"
      },
      "execution_count": null,
      "outputs": [
        {
          "output_type": "execute_result",
          "data": {
            "text/plain": [
              "DegreeView({1: 1, 2: 2, 3: 2, 4: 3, 5: 4, 6: 2, 7: 3, 8: 3})"
            ]
          },
          "metadata": {},
          "execution_count": 13
        }
      ]
    },
    {
      "cell_type": "code",
      "source": [
        "m_influential=nx.degree_centrality(G)\n",
        "nx.eigenvector_centrality(G)"
      ],
      "metadata": {
        "colab": {
          "base_uri": "https://localhost:8080/"
        },
        "id": "wrg12mrqXEu7",
        "outputId": "80805a17-97f2-4518-824b-d6f0ec107c7f"
      },
      "execution_count": null,
      "outputs": [
        {
          "output_type": "execute_result",
          "data": {
            "text/plain": [
              "{1: 0.0187016345841107,\n",
              " 2: 0.05587996341194539,\n",
              " 3: 0.14827054670012343,\n",
              " 4: 0.3871683737993803,\n",
              " 5: 0.5460688562703813,\n",
              " 6: 0.33300199045458634,\n",
              " 7: 0.4489886552281855,\n",
              " 8: 0.462570902570599}"
            ]
          },
          "metadata": {},
          "execution_count": 14
        }
      ]
    },
    {
      "cell_type": "code",
      "source": [
        "nx.betweenness_centrality(G)"
      ],
      "metadata": {
        "colab": {
          "base_uri": "https://localhost:8080/"
        },
        "id": "LcKFuRciXGKy",
        "outputId": "762b9d79-9f60-41d8-8b52-cf37b2f1c64c"
      },
      "execution_count": null,
      "outputs": [
        {
          "output_type": "execute_result",
          "data": {
            "text/plain": [
              "{1: 0.0,\n",
              " 2: 0.2857142857142857,\n",
              " 3: 0.47619047619047616,\n",
              " 4: 0.5714285714285714,\n",
              " 5: 0.30952380952380953,\n",
              " 6: 0.0,\n",
              " 7: 0.023809523809523808,\n",
              " 8: 0.09523809523809523}"
            ]
          },
          "metadata": {},
          "execution_count": 15
        }
      ]
    },
    {
      "cell_type": "code",
      "source": [
        "nx.closeness_centrality(G)"
      ],
      "metadata": {
        "id": "QGIKQzCpnSio",
        "outputId": "eda7aa82-050e-479a-c7f3-44c6c7adc4cc",
        "colab": {
          "base_uri": "https://localhost:8080/"
        }
      },
      "execution_count": null,
      "outputs": [
        {
          "output_type": "execute_result",
          "data": {
            "text/plain": [
              "{1: 0.2916666666666667,\n",
              " 2: 0.3888888888888889,\n",
              " 3: 0.5,\n",
              " 4: 0.5833333333333334,\n",
              " 5: 0.5384615384615384,\n",
              " 6: 0.3888888888888889,\n",
              " 7: 0.4117647058823529,\n",
              " 8: 0.5}"
            ]
          },
          "metadata": {},
          "execution_count": 16
        }
      ]
    },
    {
      "cell_type": "code",
      "source": [
        "list(nx.find_cliques(G))"
      ],
      "metadata": {
        "colab": {
          "base_uri": "https://localhost:8080/"
        },
        "id": "ZmXZHrQ3XH1S",
        "outputId": "abdadccf-1bb7-4bdc-86f9-546159b54a75"
      },
      "execution_count": null,
      "outputs": [
        {
          "output_type": "execute_result",
          "data": {
            "text/plain": [
              "[[1, 2], [2, 3], [3, 4], [5, 8, 4], [5, 8, 7], [5, 6, 7]]"
            ]
          },
          "metadata": {},
          "execution_count": 17
        }
      ]
    },
    {
      "cell_type": "code",
      "source": [
        "hub_ego=nx.ego_graph(G,3)\n",
        "pos=nx.spring_layout(G)\n",
        "nx.draw(hub_ego,pos,node_color=\"lavender\", node_size = 800, with_labels = True)\n",
        "nx.draw_networkx_nodes( hub_ego, pos,nodelist = [3])\n",
        "plt.show()"
      ],
      "metadata": {
        "colab": {
          "base_uri": "https://localhost:8080/",
          "height": 516
        },
        "id": "wHtvd7VOXOly",
        "outputId": "08f7d007-3251-47a5-cca4-04b2f27384d5"
      },
      "execution_count": null,
      "outputs": [
        {
          "output_type": "display_data",
          "data": {
            "text/plain": [
              "<Figure size 640x480 with 1 Axes>"
            ],
            "image/png": "[encoded data removed]"
          },
          "metadata": {}
        }
      ]
    },
    {
      "cell_type": "code",
      "source": [
        "nx.density(G)"
      ],
      "metadata": {
        "colab": {
          "base_uri": "https://localhost:8080/"
        },
        "id": "CvLA1pYjXQJq",
        "outputId": "eebae0fe-a7f2-4653-f759-b345cb92fbab"
      },
      "execution_count": null,
      "outputs": [
        {
          "output_type": "execute_result",
          "data": {
            "text/plain": [
              "0.35714285714285715"
            ]
          },
          "metadata": {},
          "execution_count": 19
        }
      ]
    },
    {
      "cell_type": "code",
      "source": [
        "nx.has_bridges(G)"
      ],
      "metadata": {
        "colab": {
          "base_uri": "https://localhost:8080/"
        },
        "id": "xwh6V2iaXRiC",
        "outputId": "8a333a98-62db-479e-fce1-0132e219d599"
      },
      "execution_count": null,
      "outputs": [
        {
          "output_type": "execute_result",
          "data": {
            "text/plain": [
              "True"
            ]
          },
          "metadata": {},
          "execution_count": 20
        }
      ]
    }
  ]
}